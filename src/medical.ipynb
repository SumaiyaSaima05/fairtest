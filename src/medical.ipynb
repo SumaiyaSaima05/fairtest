{
 "cells": [
  {
   "cell_type": "code",
   "execution_count": 1,
   "metadata": {
    "collapsed": false
   },
   "outputs": [
    {
     "name": "stdout",
     "output_type": "stream",
     "text": [
      "Populating the interactive namespace from numpy and matplotlib\n"
     ]
    }
   ],
   "source": [
    "%pylab inline"
   ]
  },
  {
   "cell_type": "code",
   "execution_count": 2,
   "metadata": {
    "collapsed": false
   },
   "outputs": [
    {
     "name": "stderr",
     "output_type": "stream",
     "text": [
      "/usr/local/lib/python2.7/site-packages/sklearn/cross_validation.py:44: DeprecationWarning: This module was deprecated in version 0.18 in favor of the model_selection module into which all the refactored classes and functions are moved. Also note that the interface of the new CV iterators are different from that of this module. This module will be removed in 0.20.\n",
      "  \"This module will be removed in 0.20.\", DeprecationWarning)\n"
     ]
    }
   ],
   "source": [
    "import pandas as pd\n",
    "import logging\n",
    "import imp\n",
    "from rpy2.robjects import numpy2ri\n",
    "\n",
    "RANDOM_SEED = 0\n",
    "numpy2ri.activate()\n",
    "\n",
    "import fairtest.utils.log as fairtest_log\n",
    "imp.reload(fairtest_log)\n",
    "fairtest_log.set_params(filename='fairtest.log', level=logging.INFO)"
   ]
  },
  {
   "cell_type": "code",
   "execution_count": 9,
   "metadata": {
    "collapsed": false
   },
   "outputs": [
    {
     "name": "stderr",
     "output_type": "stream",
     "text": [
      "INFO:root:Encoding Feature Gender\n",
      "INFO:root:Encoding Feature Pred Interval Size\n",
      "INFO:root:Training Size 28498\n",
      "INFO:root:Testing Sizes [28930, 28930]\n",
      "INFO:root:New Error Profiling Investigation\n",
      "INFO:root:Computing Absolute Regression Error\n",
      "INFO:root:Target Feature: Target(names=['Abs. Error'], arity=None)\n",
      "INFO:root:Choosing metric CORR for feature Age\n"
     ]
    },
    {
     "name": "stdout",
     "output_type": "stream",
     "text": [
      "0.0266946318488\n",
      "Counter({'high': 43214, 'low': 43144})\n",
      "Training set: 28498/86358\n"
     ]
    },
    {
     "data": {
      "text/html": [
       "<div style=\"max-height:1000px;max-width:1500px;overflow:auto;\">\n",
       "<table border=\"1\" class=\"dataframe\">\n",
       "  <thead>\n",
       "    <tr style=\"text-align: right;\">\n",
       "      <th></th>\n",
       "      <th>Age</th>\n",
       "      <th>Average Charlson Index</th>\n",
       "      <th>Average Days Since First Service</th>\n",
       "      <th>Average Drug Count</th>\n",
       "      <th>Average Lab Count</th>\n",
       "      <th>Average Length Of Stay</th>\n",
       "      <th>Average Payment Delay</th>\n",
       "      <th>Condition AMI</th>\n",
       "      <th>Condition APPCHOL</th>\n",
       "      <th>Condition ARTHSPIN</th>\n",
       "      <th>...</th>\n",
       "      <th>Treatment Code SMCD</th>\n",
       "      <th>Treatment Code SMS</th>\n",
       "      <th>Treatment Code SNS</th>\n",
       "      <th>Treatment Code SO</th>\n",
       "      <th>Treatment Code SRS</th>\n",
       "      <th>Treatment Code SUS</th>\n",
       "      <th>Unknown Length Of Stay</th>\n",
       "      <th>Gender</th>\n",
       "      <th>Pred Interval Size</th>\n",
       "      <th>Abs. Error</th>\n",
       "    </tr>\n",
       "  </thead>\n",
       "  <tbody>\n",
       "    <tr>\n",
       "      <th>21243</th>\n",
       "      <td>55</td>\n",
       "      <td>0</td>\n",
       "      <td>1</td>\n",
       "      <td>2.000000</td>\n",
       "      <td>0</td>\n",
       "      <td>0</td>\n",
       "      <td>54</td>\n",
       "      <td>0</td>\n",
       "      <td>0</td>\n",
       "      <td>0</td>\n",
       "      <td>...</td>\n",
       "      <td>0</td>\n",
       "      <td>0</td>\n",
       "      <td>0</td>\n",
       "      <td>0</td>\n",
       "      <td>0</td>\n",
       "      <td>0</td>\n",
       "      <td>2</td>\n",
       "      <td>1</td>\n",
       "      <td>1</td>\n",
       "      <td>0.055439</td>\n",
       "    </tr>\n",
       "    <tr>\n",
       "      <th>45891</th>\n",
       "      <td>75</td>\n",
       "      <td>1</td>\n",
       "      <td>4</td>\n",
       "      <td>1.714285</td>\n",
       "      <td>9</td>\n",
       "      <td>0</td>\n",
       "      <td>62</td>\n",
       "      <td>2</td>\n",
       "      <td>0</td>\n",
       "      <td>6</td>\n",
       "      <td>...</td>\n",
       "      <td>0</td>\n",
       "      <td>1</td>\n",
       "      <td>0</td>\n",
       "      <td>0</td>\n",
       "      <td>0</td>\n",
       "      <td>0</td>\n",
       "      <td>27</td>\n",
       "      <td>1</td>\n",
       "      <td>0</td>\n",
       "      <td>0.298424</td>\n",
       "    </tr>\n",
       "    <tr>\n",
       "      <th>42613</th>\n",
       "      <td>5</td>\n",
       "      <td>0</td>\n",
       "      <td>1</td>\n",
       "      <td>0.000000</td>\n",
       "      <td>0</td>\n",
       "      <td>0</td>\n",
       "      <td>21</td>\n",
       "      <td>0</td>\n",
       "      <td>0</td>\n",
       "      <td>0</td>\n",
       "      <td>...</td>\n",
       "      <td>0</td>\n",
       "      <td>0</td>\n",
       "      <td>0</td>\n",
       "      <td>0</td>\n",
       "      <td>0</td>\n",
       "      <td>0</td>\n",
       "      <td>1</td>\n",
       "      <td>1</td>\n",
       "      <td>1</td>\n",
       "      <td>1.323536</td>\n",
       "    </tr>\n",
       "    <tr>\n",
       "      <th>43567</th>\n",
       "      <td>45</td>\n",
       "      <td>0</td>\n",
       "      <td>1</td>\n",
       "      <td>1.000000</td>\n",
       "      <td>3</td>\n",
       "      <td>0</td>\n",
       "      <td>42</td>\n",
       "      <td>0</td>\n",
       "      <td>0</td>\n",
       "      <td>0</td>\n",
       "      <td>...</td>\n",
       "      <td>0</td>\n",
       "      <td>0</td>\n",
       "      <td>0</td>\n",
       "      <td>0</td>\n",
       "      <td>0</td>\n",
       "      <td>0</td>\n",
       "      <td>3</td>\n",
       "      <td>1</td>\n",
       "      <td>1</td>\n",
       "      <td>0.041682</td>\n",
       "    </tr>\n",
       "    <tr>\n",
       "      <th>68268</th>\n",
       "      <td>55</td>\n",
       "      <td>0</td>\n",
       "      <td>2</td>\n",
       "      <td>1.166666</td>\n",
       "      <td>4</td>\n",
       "      <td>0</td>\n",
       "      <td>92</td>\n",
       "      <td>0</td>\n",
       "      <td>0</td>\n",
       "      <td>0</td>\n",
       "      <td>...</td>\n",
       "      <td>0</td>\n",
       "      <td>0</td>\n",
       "      <td>0</td>\n",
       "      <td>0</td>\n",
       "      <td>0</td>\n",
       "      <td>0</td>\n",
       "      <td>5</td>\n",
       "      <td>0</td>\n",
       "      <td>0</td>\n",
       "      <td>0.019974</td>\n",
       "    </tr>\n",
       "  </tbody>\n",
       "</table>\n",
       "<p>5 rows × 130 columns</p>\n",
       "</div>"
      ],
      "text/plain": [
       "       Age  Average Charlson Index  Average Days Since First Service  \\\n",
       "21243   55                       0                                 1   \n",
       "45891   75                       1                                 4   \n",
       "42613    5                       0                                 1   \n",
       "43567   45                       0                                 1   \n",
       "68268   55                       0                                 2   \n",
       "\n",
       "       Average Drug Count  Average Lab Count  Average Length Of Stay  \\\n",
       "21243            2.000000                  0                       0   \n",
       "45891            1.714285                  9                       0   \n",
       "42613            0.000000                  0                       0   \n",
       "43567            1.000000                  3                       0   \n",
       "68268            1.166666                  4                       0   \n",
       "\n",
       "       Average Payment Delay  Condition AMI  Condition APPCHOL  \\\n",
       "21243                     54              0                  0   \n",
       "45891                     62              2                  0   \n",
       "42613                     21              0                  0   \n",
       "43567                     42              0                  0   \n",
       "68268                     92              0                  0   \n",
       "\n",
       "       Condition ARTHSPIN     ...      Treatment Code SMCD  \\\n",
       "21243                   0     ...                        0   \n",
       "45891                   6     ...                        0   \n",
       "42613                   0     ...                        0   \n",
       "43567                   0     ...                        0   \n",
       "68268                   0     ...                        0   \n",
       "\n",
       "       Treatment Code SMS  Treatment Code SNS  Treatment Code SO  \\\n",
       "21243                   0                   0                  0   \n",
       "45891                   1                   0                  0   \n",
       "42613                   0                   0                  0   \n",
       "43567                   0                   0                  0   \n",
       "68268                   0                   0                  0   \n",
       "\n",
       "       Treatment Code SRS  Treatment Code SUS  Unknown Length Of Stay  Gender  \\\n",
       "21243                   0                   0                       2       1   \n",
       "45891                   0                   0                      27       1   \n",
       "42613                   0                   0                       1       1   \n",
       "43567                   0                   0                       3       1   \n",
       "68268                   0                   0                       5       0   \n",
       "\n",
       "       Pred Interval Size  Abs. Error  \n",
       "21243                   1    0.055439  \n",
       "45891                   0    0.298424  \n",
       "42613                   1    1.323536  \n",
       "43567                   1    0.041682  \n",
       "68268                   0    0.019974  \n",
       "\n",
       "[5 rows x 130 columns]"
      ]
     },
     "execution_count": 9,
     "metadata": {},
     "output_type": "execute_result"
    }
   ],
   "source": [
    "from fairtest import DataSource\n",
    "import fairtest.investigation as inv\n",
    "import fairtest.testing as testing\n",
    "import fairtest.discovery as discovery\n",
    "import fairtest.error_profiling as error_profiling\n",
    "import fairtest.modules.metrics as metrics\n",
    "import fairtest.modules.metrics.correlation as correlation\n",
    "import fairtest.modules.metrics.regression as regression\n",
    "import fairtest.modules.metrics.binary_metrics as binary_metrics\n",
    "import fairtest.modules.statistics.confidence_interval as intervals\n",
    "import ast\n",
    "import numpy as np\n",
    "import sklearn.preprocessing as preprocessing\n",
    "from collections import Counter\n",
    "\n",
    "dataname = 'medical'\n",
    "data = pd.read_csv(\n",
    "            '../data/medical/predictions_reg_log.csv',\n",
    "            header=0,\n",
    "            sep=r'\\s*,\\s*',\n",
    "            engine='python',\n",
    "            na_values=\"?\")\n",
    "TARGET = 'Prediction'\n",
    "GROUND_TRUTH = 'Ground_Truth'\n",
    "SENS = ['Age']\n",
    "\n",
    "data[TARGET] = np.log1p(data[TARGET])\n",
    "data[GROUND_TRUTH] = np.log1p(data[GROUND_TRUTH])\n",
    "\n",
    "mean_interval = data['Pred Interval Size'].median()\n",
    "data['Pred Interval Size'] = map(lambda x: 'low' if x < mean_interval else 'high', data['Pred Interval Size'])\n",
    "print mean_interval\n",
    "print Counter(data['Pred Interval Size'])\n",
    "\n",
    "EXPL = []\n",
    "\n",
    "data_source = DataSource(data, random_state=RANDOM_SEED, budget=2, train_size=0.33)\n",
    "\n",
    "exp1 = error_profiling.ErrorProfiling(data_source, SENS, TARGET, GROUND_TRUTH, EXPL, random_state=RANDOM_SEED)\n",
    "print 'Training set: {}/{}'.format(len(exp1.train_set), len(data))\n",
    "exp1.train_set.tail()"
   ]
  },
  {
   "cell_type": "code",
   "execution_count": 10,
   "metadata": {
    "collapsed": false
   },
   "outputs": [
    {
     "name": "stderr",
     "output_type": "stream",
     "text": [
      "INFO:root:Begin training phase with protected feature Age\n",
      "INFO:root:Building a Guided Decision Tree\n",
      "INFO:root:splitting on Treated at Urgent Care (score=0.235424617074) with threshold 0.5 at pred []\n",
      "INFO:root:splitting on Condition RESPR4 (score=0.220070090478) with threshold 1.5 at pred ['Treated at Urgent Care <= 0.5']\n",
      "INFO:root:splitting on Condition ROAMI (score=0.208480872318) with threshold 1.5 at pred ['Treated at Urgent Care <= 0.5', 'Condition RESPR4 <= 1.5']\n",
      "INFO:root:splitting on Condition RENAL3 (score=0.189628839403) with threshold 0.5 at pred ['Treated at Urgent Care <= 0.5', 'Condition RESPR4 <= 1.5', 'Condition ROAMI <= 1.5']\n",
      "INFO:root:splitting on Condition MISCHRT (score=0.179486527584) with threshold 3.5 at pred ['Treated at Urgent Care <= 0.5', 'Condition RESPR4 <= 1.5', 'Condition ROAMI <= 1.5', 'Condition RENAL3 <= 0.5']\n",
      "INFO:root:splitting on Condition RESPR4 (score=0.224676275725) with threshold 0.5 at pred ['Treated at Urgent Care <= 0.5', 'Condition RESPR4 <= 1.5', 'Condition ROAMI <= 1.5', 'Condition RENAL3 > 0.5']\n",
      "INFO:root:splitting on Gender (score=0.21284731321) with threshold None at pred ['Treated at Urgent Care <= 0.5', 'Condition RESPR4 <= 1.5', 'Condition ROAMI > 1.5']\n",
      "INFO:root:splitting on Speciality Anesthesiology (score=0.258222698814) with threshold 0.5 at pred ['Treated at Urgent Care <= 0.5', 'Condition RESPR4 > 1.5']\n",
      "INFO:root:splitting on Average Days Since First Service (score=0.257429442793) with threshold 6.5 at pred ['Treated at Urgent Care <= 0.5', 'Condition RESPR4 > 1.5', 'Speciality Anesthesiology <= 0.5']\n",
      "INFO:root:splitting on Condition SKNAUT (score=0.283405927608) with threshold 4.5 at pred ['Treated at Urgent Care > 0.5']\n",
      "INFO:root:splitting on Min Drug Count (score=0.269493088388) with threshold 1.5 at pred ['Treated at Urgent Care > 0.5', 'Condition SKNAUT <= 4.5']\n",
      "INFO:root:splitting on Condition TRAUMA (score=0.266813967702) with threshold 5.5 at pred ['Treated at Urgent Care > 0.5', 'Condition SKNAUT <= 4.5', 'Min Drug Count <= 1.5']\n",
      "INFO:root:splitting on Condition NEUMENT (score=0.24808988893) with threshold 1.5 at pred ['Treated at Urgent Care > 0.5', 'Condition SKNAUT <= 4.5', 'Min Drug Count <= 1.5', 'Condition TRAUMA <= 5.5']\n",
      "INFO:root:splitting on Treated at Urgent Care (score=0.281541239367) with threshold 1.5 at pred ['Treated at Urgent Care > 0.5', 'Condition SKNAUT <= 4.5', 'Min Drug Count > 1.5']\n",
      "INFO:root:splitting on Speciality Emergency (score=0.246805645113) with threshold 0.5 at pred ['Treated at Urgent Care > 0.5', 'Condition SKNAUT <= 4.5', 'Min Drug Count > 1.5', 'Treated at Urgent Care <= 1.5']\n",
      "INFO:root:splitting on Gender (score=0.238077376196) with threshold None at pred ['Treated at Urgent Care > 0.5', 'Condition SKNAUT <= 4.5', 'Min Drug Count > 1.5', 'Treated at Urgent Care > 1.5']\n"
     ]
    }
   ],
   "source": [
    "import fairtest.modules.context_discovery.guided_tree as guided_tree\n",
    "imp.reload(guided_tree)\n",
    "inv.train([exp1], score_aggregation='avg', min_leaf_size=100, max_depth=5)"
   ]
  },
  {
   "cell_type": "code",
   "execution_count": 11,
   "metadata": {
    "collapsed": false
   },
   "outputs": [
    {
     "name": "stdout",
     "output_type": "stream",
     "text": [
      "\n",
      "               /-Condition MISCHRT <= 3.5\n",
      "            /-|\n",
      "           |   \\-Condition MISCHRT > 3.5\n",
      "         /-|\n",
      "        |  |   /-Condition RESPR4 <= 0.5\n",
      "        |   \\-|\n",
      "      /-|      \\-Condition RESPR4 > 0.5\n",
      "     |  |\n",
      "     |  |   /-Gender = 0\n",
      "     |   \\-|\n",
      "   /-|      \\-Gender = 1\n",
      "  |  |\n",
      "  |  |      /-Average Days Since First Service <= 6.5\n",
      "  |  |   /-|\n",
      "  |   \\-|   \\-Average Days Since First Service > 6.5\n",
      "  |     |\n",
      "  |      \\-Speciality Anesthesiology > 0.5\n",
      "  |\n",
      "--|            /-Condition NEUMENT <= 1.5\n",
      "  |         /-|\n",
      "  |      /-|   \\-Condition NEUMENT > 1.5\n",
      "  |     |  |\n",
      "  |     |   \\-Condition TRAUMA > 5.5\n",
      "  |   /-|\n",
      "  |  |  |      /-Speciality Emergency <= 0.5\n",
      "  |  |  |   /-|\n",
      "  |  |  |  |   \\-Speciality Emergency > 0.5\n",
      "   \\-|   \\-|\n",
      "     |     |   /-Gender = 0\n",
      "     |      \\-|\n",
      "     |         \\-Gender = 1\n",
      "     |\n",
      "      \\-Condition SKNAUT > 4.5\n"
     ]
    }
   ],
   "source": [
    "print exp1.trained_trees['Age']"
   ]
  },
  {
   "cell_type": "code",
   "execution_count": 12,
   "metadata": {
    "collapsed": false
   },
   "outputs": [
    {
     "name": "stderr",
     "output_type": "stream",
     "text": [
      "INFO:root:Computing Absolute Regression Error\n",
      "INFO:root:Parsing tree for sensitive feature Age...\n",
      "INFO:root:Parsed tree for sensitive feature Age\n",
      "INFO:root:Begin testing phase\n",
      "INFO:root:Testing 33 hypotheses\n",
      "INFO:root:Computing stats for 33 contexts\n",
      "INFO:root:Computing stats for context 0\n",
      "INFO:root:Computing stats for context 1\n",
      "INFO:root:Computing stats for context 3\n",
      "INFO:root:Computing stats for context 7\n",
      "INFO:root:Computing stats for context 13\n",
      "INFO:root:Computing stats for context 23\n",
      "INFO:root:Computing stats for context 24\n",
      "INFO:root:Computing stats for context 14\n",
      "INFO:root:Computing stats for context 25\n",
      "INFO:root:Computing stats for context 26\n",
      "INFO:root:Computing stats for context 8\n",
      "INFO:root:Computing stats for context 15\n",
      "INFO:root:Computing stats for context 16\n",
      "INFO:root:Computing stats for context 4\n",
      "INFO:root:Computing stats for context 9\n",
      "INFO:root:Computing stats for context 17\n",
      "INFO:root:Computing stats for context 18\n",
      "INFO:root:Computing stats for context 10\n",
      "INFO:root:Computing stats for context 2\n",
      "INFO:root:Computing stats for context 5\n",
      "INFO:root:Computing stats for context 11\n",
      "INFO:root:Computing stats for context 19\n",
      "INFO:root:Computing stats for context 27\n",
      "INFO:root:Computing stats for context 28\n",
      "INFO:root:Computing stats for context 20\n",
      "INFO:root:Computing stats for context 12\n",
      "INFO:root:Computing stats for context 21\n",
      "INFO:root:Computing stats for context 29\n",
      "INFO:root:Computing stats for context 30\n",
      "INFO:root:Computing stats for context 22\n",
      "INFO:root:Computing stats for context 31\n",
      "INFO:root:Computing stats for context 32\n",
      "INFO:root:Computing stats for context 6\n"
     ]
    }
   ],
   "source": [
    "import fairtest.modules.statistics.hypothesis_test as tests\n",
    "import fairtest.modules.statistics.multiple_testing as multitest\n",
    "import fairtest.modules.context_discovery.tree_parser as tree_parser\n",
    "import fairtest.modules.statistics.confidence_interval as intervals\n",
    "\n",
    "inv.test([exp1], exact=True, prune_insignificant=True)"
   ]
  },
  {
   "cell_type": "code",
   "execution_count": 13,
   "metadata": {
    "collapsed": false,
    "scrolled": true
   },
   "outputs": [
    {
     "name": "stdout",
     "output_type": "stream",
     "text": [
      "================================================================================\n",
      "Report Creation time: 2016-11-17 14:33:13\n",
      "\n",
      "Dataset: medical\n",
      "Train Size: 28498\n",
      "Test Size: 28930\n",
      "S: ['Age']\n",
      "X: ['Stdev Length Of Stay', 'Treated at Home', 'Supressed\n",
      "\tLength Of Stay', 'Condition RENAL1', 'No Lab Count',\n",
      "\t'Condition RENAL3', 'Condition RENAL2', 'Speciality\n",
      "\tDiagnostic Imaging', 'Lab Months', 'Number Of Claims', 'No\n",
      "\tDrug Count', 'Range Charlson IndexI_range', 'Number of\n",
      "\tVendors', 'Number Of Specialties', 'Treated at Outpatient\n",
      "\tHospital', 'Treatment Code RAD', 'Number of Procedure\n",
      "\tGroups', 'Condition INFEC4', 'Max Lab Count', 'Average Lab\n",
      "\tCount', 'Treated at Office', 'Pred Interval Size',\n",
      "\t'Condition PERVALV', 'Number of Places Where Treated',\n",
      "\t'Condition FXDISLC', 'Condition SEIZURE', 'Treatment Code\n",
      "\tSMCD', 'Treatment Code EM', 'Average Drug Count', 'Condition\n",
      "\tHEMTOL', 'Speciality NULL', 'Condition FLaELEC', 'Treatment\n",
      "\tCode SNS', 'Treatment Code SUS', 'Number of Primary\n",
      "\tPhysicians', 'Condition NEUMENT', 'Speciality Laboratory',\n",
      "\t'Speciality Other', 'Average Payment Delay', 'Condition\n",
      "\tROAMI', 'Treatment Code SEOA', 'Condition CATAST',\n",
      "\t'Condition ODaBNCA', 'Unknown Length Of Stay', 'Stdev\n",
      "\tCharlson Index', 'Max Length Of Stay', 'Condition PNEUM',\n",
      "\t'Treatment Code SIS', 'Condition AMI', 'Range Days Since\n",
      "\tFirst Service', 'Speciality Emergency', 'Treated at NULL',\n",
      "\t'Max Days Since First Service', 'Treatment Code MED',\n",
      "\t'Condition MISCHRT', 'Gender', 'Condition LIVERDZ',\n",
      "\t'Treatment Code NULL', 'Treatment Code SAS', 'Speciality\n",
      "\tPathology', 'Treatment Code SGS', 'Known Length Of Stay',\n",
      "\t'Condition PERINTL', 'Speciality Pediatrics', 'Condition\n",
      "\tPNCRDZ', 'Treated at Independent Lab', 'Condition GIOBSENT',\n",
      "\t'Min Days Since First Service', 'Speciality Anesthesiology',\n",
      "\t'Condition RESPR4', 'Condition ARTHSPIN', 'Condition\n",
      "\tSTROKE', 'Treatment Code SO', 'Treatment Code ANES', 'Stdev\n",
      "\tPayment Delay', 'Min Length Of Stay', 'Treated at Urgent\n",
      "\tCare', 'Min Drug Count', 'Number of Primary Condition\n",
      "\tGroups', 'Treated at Inpatient Hospital', 'Suppressed\n",
      "\tClaims', 'Treated at Ambulance', 'Treatment Code PL',\n",
      "\t'Treatment Code SRS', 'Condition SEPSIS', 'Condition\n",
      "\tMSC2a3', 'Condition CANCRB', 'Condition CANCRA', 'Speciality\n",
      "\tSurgery', 'Condition UTI', 'Condition CANCRM', 'Condition\n",
      "\tCHF', 'Condition METAB1', 'Condition METAB3', 'Max Payment\n",
      "\tDelay', 'Min Lab Count', 'Speciality Obstetrics and\n",
      "\tGynecology', 'Max Drug Count', 'Number Of Providers',\n",
      "\t'Speciality General Practice', 'Condition GIBLEED',\n",
      "\t'Condition SKNAUT', 'Drug Months', 'Treatment Code SDS',\n",
      "\t'Stdev Days Since First Service', 'Speciality Internal',\n",
      "\t'Condition GYNEC1', 'Treated at Other', 'Speciality\n",
      "\tRehabilitation', 'Condition APPCHOL', 'Condition HEART4',\n",
      "\t'Condition HEART2', 'Condition NULL', 'Treatment Code SMS',\n",
      "\t'Condition COPD', 'Min Payment Delay', 'Treatment Code SCS',\n",
      "\t'Condition HIPFX', 'Condition MISCL5', 'Condition MISCL1',\n",
      "\t'Average Charlson Index', 'Average Length Of Stay', 'Average\n",
      "\tDays Since First Service', 'Condition TRAUMA', 'Condition\n",
      "\tPRGNCY', 'Max Charlson Index', 'Min Charlson Index',\n",
      "\t'Condition GYNECA']\n",
      "E: None\n",
      "O: ['Abs. Error']\n",
      "\n",
      "Train Params: \t{'max_bins': 10, 'min_leaf_size': 100, 'max_depth': 5, 'agg_type': 'avg'}\n",
      "Test Params: \t{'prune_insignificant': True, 'exact': True, 'family_conf': 0.9746794344808963}\n",
      "Report Params: \t{'node_filter': 'better_than_ancestors'}\n",
      "================================================================================\n",
      "\n",
      "Report of associations of O=['Abs. Error'] on Si = Age:\n",
      "Association metric: CORR\n",
      "\n",
      "Global Population 0 of size 28930\n",
      "\n"
     ]
    },
    {
     "data": {
      "image/png": "[encoded data removed]",
      "text/plain": [
       "<matplotlib.figure.Figure at 0x11c1d0f50>"
      ]
     },
     "metadata": {},
     "output_type": "display_data"
    },
    {
     "name": "stderr",
     "output_type": "stream",
     "text": [
      "INFO:root:Filtering and ranking 33 sub-contexts\n",
      "INFO:root:32 statistically significant sub-contexts\n",
      "INFO:root:Size range: 91-22678\n",
      "INFO:root:1 sub-contexts printed\n"
     ]
    },
    {
     "name": "stdout",
     "output_type": "stream",
     "text": [
      "p-value = 3.30e-179 ; CORR = [0.2057, 0.2432]\n",
      "================================================================================\n",
      "\n",
      "Sub-Population 2 of size 6252\n",
      "Context = {'Treated at Urgent Care': (0.5, inf)}\n",
      "\n"
     ]
    },
    {
     "data": {
      "image/png": "[encoded data removed]",
      "text/plain": [
       "<matplotlib.figure.Figure at 0x11acfcf10>"
      ]
     },
     "metadata": {},
     "output_type": "display_data"
    },
    {
     "name": "stdout",
     "output_type": "stream",
     "text": [
      "p-value = 1.85e-141 ; CORR = [0.2724, 0.3492]\n",
      "--------------------------------------------------------------------------------\n",
      "\n",
      "Hierarchical printing of subpopulations (summary)\n",
      "\n",
      "================================================================================\n",
      "\n",
      " Context = {} ; CI = [0.2057, 0.2432] ; Size = 28930\n",
      "   Context = {'Treated at Urgent Care': (0.5, inf)} ; CI = [0.2724, 0.3492] ; Size = 6252\n",
      "--------------------------------------------------------------------------------\n",
      "\n"
     ]
    },
    {
     "data": {
      "text/plain": [
       "[{}, {'Treated at Urgent Care': (0.5, inf)}]"
      ]
     },
     "execution_count": 13,
     "metadata": {},
     "output_type": "execute_result"
    }
   ],
   "source": [
    "import fairtest.modules.bug_report.report as rep\n",
    "import fairtest.modules.bug_report.filter_rank as fr\n",
    "\n",
    "imp.reload(rep)\n",
    "\n",
    "output_dir = None\n",
    "inv.report([exp1], dataname, output_dir=output_dir, filter_conf=0.95, node_filter=fr.FILTER_BETTER_THAN_ANCESTORS)"
   ]
  },
  {
   "cell_type": "code",
   "execution_count": 14,
   "metadata": {
    "collapsed": false
   },
   "outputs": [
    {
     "name": "stdout",
     "output_type": "stream",
     "text": [
      "0.56478369859\n",
      "1.07064641272\n",
      "0.325089201795\n",
      "\n",
      "0.417140703855\n",
      "0.692929375572\n",
      "0.256679921103\n"
     ]
    }
   ],
   "source": [
    "test_data = exp1.holdout._test_sets[1]\n",
    "subpop = test_data[test_data['Treated at Urgent Care'] >= 0.5]\n",
    "\n",
    "old = subpop[subpop['Age'] >= 61]\n",
    "young = subpop[subpop['Age'] < 61]\n",
    "\n",
    "print np.mean(abs(np.expm1(subpop['Prediction'])-np.expm1(subpop['Ground_Truth'])))\n",
    "print np.mean(abs(np.expm1(old['Prediction'])-np.expm1(old['Ground_Truth'])))\n",
    "print np.mean(abs(np.expm1(young['Prediction'])-np.expm1(young['Ground_Truth'])))\n",
    "print\n",
    "\n",
    "old = test_data[test_data['Age'] >= 61]\n",
    "young = test_data[test_data['Age'] < 61]\n",
    "print np.mean(abs(np.expm1(test_data['Prediction'])-np.expm1(test_data['Ground_Truth'])))\n",
    "print np.mean(abs(np.expm1(old['Prediction'])-np.expm1(old['Ground_Truth'])))\n",
    "print np.mean(abs(np.expm1(young['Prediction'])-np.expm1(young['Ground_Truth'])))"
   ]
  },
  {
   "cell_type": "code",
   "execution_count": null,
   "metadata": {
    "collapsed": true
   },
   "outputs": [],
   "source": [
    "#\n",
    "# Test with explanatory feature on same tree\n",
    "#"
   ]
  },
  {
   "cell_type": "code",
   "execution_count": 15,
   "metadata": {
    "collapsed": false
   },
   "outputs": [
    {
     "name": "stderr",
     "output_type": "stream",
     "text": [
      "INFO:root:Computing Absolute Regression Error\n",
      "INFO:root:Parsing tree for sensitive feature Age...\n",
      "INFO:root:Parsed tree for sensitive feature Age\n",
      "INFO:root:Begin testing phase\n",
      "INFO:root:Testing 33 hypotheses\n",
      "INFO:root:Computing stats for 33 contexts\n",
      "INFO:root:Computing stats for context 0\n",
      "INFO:root:Computing stats for context 1\n",
      "INFO:root:Computing stats for context 3\n",
      "INFO:root:Computing stats for context 7\n",
      "INFO:root:Computing stats for context 13\n",
      "INFO:root:Computing stats for context 23\n",
      "INFO:root:Computing stats for context 24\n",
      "INFO:root:Computing stats for context 14\n",
      "INFO:root:Computing stats for context 25\n",
      "INFO:root:Computing stats for context 26\n",
      "INFO:root:Computing stats for context 8\n",
      "INFO:root:Computing stats for context 15\n",
      "INFO:root:Computing stats for context 16\n",
      "INFO:root:Computing stats for context 4\n",
      "INFO:root:Computing stats for context 9\n",
      "INFO:root:Computing stats for context 17\n",
      "INFO:root:Computing stats for context 18\n",
      "INFO:root:Computing stats for context 10\n",
      "INFO:root:Computing stats for context 2\n",
      "INFO:root:Computing stats for context 5\n",
      "INFO:root:Computing stats for context 11\n",
      "INFO:root:Computing stats for context 19\n",
      "INFO:root:Computing stats for context 27\n",
      "INFO:root:Computing stats for context 28\n",
      "INFO:root:Computing stats for context 20\n",
      "INFO:root:Computing stats for context 12\n",
      "INFO:root:Computing stats for context 21\n",
      "INFO:root:Computing stats for context 29\n",
      "INFO:root:Computing stats for context 30\n",
      "INFO:root:Computing stats for context 22\n",
      "INFO:root:Computing stats for context 31\n",
      "INFO:root:Computing stats for context 32\n",
      "INFO:root:Computing stats for context 6\n"
     ]
    }
   ],
   "source": [
    "new_metrics = [{'Age': 'CondCorr'}]\n",
    "new_expl = ['Pred Interval Size']\n",
    "inv.test([exp1], exact=True, prune_insignificant=True, new_metrics=new_metrics, new_expl=new_expl)"
   ]
  },
  {
   "cell_type": "code",
   "execution_count": 16,
   "metadata": {
    "collapsed": false
   },
   "outputs": [
    {
     "name": "stdout",
     "output_type": "stream",
     "text": [
      "================================================================================\n",
      "Report Creation time: 2016-11-17 14:35:10\n",
      "\n",
      "Dataset: medical\n",
      "Train Size: 28498\n",
      "Test Size: 28930\n",
      "S: ['Age']\n",
      "X: ['Stdev Length Of Stay', 'Treated at Home', 'Supressed\n",
      "\tLength Of Stay', 'Condition RENAL1', 'No Lab Count',\n",
      "\t'Condition RENAL3', 'Condition RENAL2', 'Speciality\n",
      "\tDiagnostic Imaging', 'Lab Months', 'Number Of Claims', 'No\n",
      "\tDrug Count', 'Range Charlson IndexI_range', 'Number of\n",
      "\tVendors', 'Number Of Specialties', 'Treated at Outpatient\n",
      "\tHospital', 'Treatment Code RAD', 'Number of Procedure\n",
      "\tGroups', 'Condition INFEC4', 'Max Lab Count', 'Average Lab\n",
      "\tCount', 'Treated at Office', 'Pred Interval Size',\n",
      "\t'Condition PERVALV', 'Number of Places Where Treated',\n",
      "\t'Condition FXDISLC', 'Condition SEIZURE', 'Treatment Code\n",
      "\tSMCD', 'Treatment Code EM', 'Average Drug Count', 'Condition\n",
      "\tHEMTOL', 'Speciality NULL', 'Condition FLaELEC', 'Treatment\n",
      "\tCode SNS', 'Treatment Code SUS', 'Number of Primary\n",
      "\tPhysicians', 'Condition NEUMENT', 'Speciality Laboratory',\n",
      "\t'Speciality Other', 'Average Payment Delay', 'Condition\n",
      "\tROAMI', 'Treatment Code SEOA', 'Condition CATAST',\n",
      "\t'Condition ODaBNCA', 'Unknown Length Of Stay', 'Stdev\n",
      "\tCharlson Index', 'Max Length Of Stay', 'Condition PNEUM',\n",
      "\t'Treatment Code SIS', 'Condition AMI', 'Range Days Since\n",
      "\tFirst Service', 'Speciality Emergency', 'Treated at NULL',\n",
      "\t'Max Days Since First Service', 'Treatment Code MED',\n",
      "\t'Condition MISCHRT', 'Gender', 'Condition LIVERDZ',\n",
      "\t'Treatment Code NULL', 'Treatment Code SAS', 'Speciality\n",
      "\tPathology', 'Treatment Code SGS', 'Known Length Of Stay',\n",
      "\t'Condition PERINTL', 'Speciality Pediatrics', 'Condition\n",
      "\tPNCRDZ', 'Treated at Independent Lab', 'Condition GIOBSENT',\n",
      "\t'Min Days Since First Service', 'Speciality Anesthesiology',\n",
      "\t'Condition RESPR4', 'Condition ARTHSPIN', 'Condition\n",
      "\tSTROKE', 'Treatment Code SO', 'Treatment Code ANES', 'Stdev\n",
      "\tPayment Delay', 'Min Length Of Stay', 'Treated at Urgent\n",
      "\tCare', 'Min Drug Count', 'Number of Primary Condition\n",
      "\tGroups', 'Treated at Inpatient Hospital', 'Suppressed\n",
      "\tClaims', 'Treated at Ambulance', 'Treatment Code PL',\n",
      "\t'Treatment Code SRS', 'Condition SEPSIS', 'Condition\n",
      "\tMSC2a3', 'Condition CANCRB', 'Condition CANCRA', 'Speciality\n",
      "\tSurgery', 'Condition UTI', 'Condition CANCRM', 'Condition\n",
      "\tCHF', 'Condition METAB1', 'Condition METAB3', 'Max Payment\n",
      "\tDelay', 'Min Lab Count', 'Speciality Obstetrics and\n",
      "\tGynecology', 'Max Drug Count', 'Number Of Providers',\n",
      "\t'Speciality General Practice', 'Condition GIBLEED',\n",
      "\t'Condition SKNAUT', 'Drug Months', 'Treatment Code SDS',\n",
      "\t'Stdev Days Since First Service', 'Speciality Internal',\n",
      "\t'Condition GYNEC1', 'Treated at Other', 'Speciality\n",
      "\tRehabilitation', 'Condition APPCHOL', 'Condition HEART4',\n",
      "\t'Condition HEART2', 'Condition NULL', 'Treatment Code SMS',\n",
      "\t'Condition COPD', 'Min Payment Delay', 'Treatment Code SCS',\n",
      "\t'Condition HIPFX', 'Condition MISCL5', 'Condition MISCL1',\n",
      "\t'Average Charlson Index', 'Average Length Of Stay', 'Average\n",
      "\tDays Since First Service', 'Condition TRAUMA', 'Condition\n",
      "\tPRGNCY', 'Max Charlson Index', 'Min Charlson Index',\n",
      "\t'Condition GYNECA']\n",
      "E: Pred Interval Size\n",
      "O: ['Abs. Error']\n",
      "\n",
      "Train Params: \t{'max_bins': 10, 'min_leaf_size': 100, 'max_depth': 5, 'agg_type': 'avg'}\n",
      "Test Params: \t{'prune_insignificant': True, 'exact': True, 'family_conf': 0.9746794344808963}\n",
      "Report Params: \t{'node_filter': 'better_than_ancestors'}\n",
      "================================================================================\n",
      "\n",
      "Report of associations of O=['Abs. Error'] on Si = Age:\n",
      "Association metric: CORR\n",
      "\n",
      "Global Population 0 of size 28930\n",
      "\n",
      "> Pred Interval Size = high ; size 14481 (50.06%):\n"
     ]
    },
    {
     "data": {
      "image/png": "[encoded data removed]",
      "text/plain": [
       "<matplotlib.figure.Figure at 0x11adc3d10>"
      ]
     },
     "metadata": {},
     "output_type": "display_data"
    },
    {
     "name": "stdout",
     "output_type": "stream",
     "text": [
      "p-value = 2.27e-128 ; CORR = [0.1722, 0.2259]\n",
      "\n",
      "> Pred Interval Size = low ; size 14449 (49.94%):\n"
     ]
    },
    {
     "data": {
      "image/png": "[encoded data removed]",
      "text/plain": [
       "<matplotlib.figure.Figure at 0x11c2479d0>"
      ]
     },
     "metadata": {},
     "output_type": "display_data"
    },
    {
     "name": "stderr",
     "output_type": "stream",
     "text": [
      "INFO:root:Filtering and ranking 33 sub-contexts\n",
      "INFO:root:32 statistically significant sub-contexts\n",
      "INFO:root:Size range: 87-22589\n",
      "INFO:root:2 sub-contexts printed\n"
     ]
    },
    {
     "name": "stdout",
     "output_type": "stream",
     "text": [
      "p-value = 2.44e-13 ; CORR = [0.0377, 0.0934]\n",
      "\n",
      "p-value = 1.26e-13 ; CondCORR = [0.1050, 0.1597]\n",
      "================================================================================\n",
      "\n",
      "Sub-Population 12 of size 1211\n",
      "Context = {'Min Drug Count': (1.5, inf), 'Condition SKNAUT': (-inf, 4.5], 'Treated at Urgent Care': (0.5, inf)}\n",
      "\n",
      "> Pred Interval Size = high ; size 979 (80.84%):\n"
     ]
    },
    {
     "data": {
      "image/png": "[encoded data removed]",
      "text/plain": [
       "<matplotlib.figure.Figure at 0x11c387950>"
      ]
     },
     "metadata": {},
     "output_type": "display_data"
    },
    {
     "name": "stdout",
     "output_type": "stream",
     "text": [
      "p-value = 7.50e-03 ; CORR = [0.2638, 0.4094]\n",
      "\n",
      "> Pred Interval Size = low ; size 232 (19.16%):\n"
     ]
    },
    {
     "data": {
      "image/png": "[encoded data removed]",
      "text/plain": [
       "<matplotlib.figure.Figure at 0x1185df4d0>"
      ]
     },
     "metadata": {},
     "output_type": "display_data"
    },
    {
     "name": "stdout",
     "output_type": "stream",
     "text": [
      "p-value = 1.00e+00 ; CORR = [-0.1311, 0.2835]\n",
      "\n",
      "p-value = 1.00e+00 ; CondCORR = [0.1647, 0.4020]\n",
      "--------------------------------------------------------------------------------\n",
      "\n",
      "Sub-Population 2 of size 6341\n",
      "Context = {'Treated at Urgent Care': (0.5, inf)}\n",
      "\n",
      "> Pred Interval Size = high ; size 4351 (68.62%):\n"
     ]
    },
    {
     "data": {
      "image/png": "[encoded data removed]",
      "text/plain": [
       "<matplotlib.figure.Figure at 0x11c0f6ad0>"
      ]
     },
     "metadata": {},
     "output_type": "display_data"
    },
    {
     "name": "stdout",
     "output_type": "stream",
     "text": [
      "p-value = 1.03e-88 ; CORR = [0.2499, 0.3428]\n",
      "\n",
      "> Pred Interval Size = low ; size 1990 (31.38%):\n"
     ]
    },
    {
     "data": {
      "image/png": "[encoded data removed]",
      "text/plain": [
       "<matplotlib.figure.Figure at 0x1186dc810>"
      ]
     },
     "metadata": {},
     "output_type": "display_data"
    },
    {
     "name": "stdout",
     "output_type": "stream",
     "text": [
      "p-value = 1.00e+00 ; CORR = [-0.0558, 0.0948]\n",
      "\n",
      "p-value = 1.00e+00 ; CondCORR = [0.1539, 0.2650]\n",
      "--------------------------------------------------------------------------------\n",
      "\n",
      "Hierarchical printing of subpopulations (summary)\n",
      "\n",
      "================================================================================\n",
      "\n",
      " Context = {} ; CI = [0.1050, 0.1597] ; Size = 28930\n",
      "   Context = {'Treated at Urgent Care': (0.5, inf)} ; CI = [0.1539, 0.2650] ; Size = 6341\n",
      "     Context = {'Min Drug Count': (1.5, inf), 'Condition SKNAUT': (-inf, 4.5], 'Treated at Urgent Care': (0.5, inf)} ; CI = [0.1647, 0.4020] ; Size = 1211\n",
      "--------------------------------------------------------------------------------\n",
      "\n"
     ]
    },
    {
     "data": {
      "text/plain": [
       "[{},\n",
       " {'Treated at Urgent Care': (0.5, inf)},\n",
       " {'Condition SKNAUT': (-inf, 4.5],\n",
       "  'Min Drug Count': (1.5, inf),\n",
       "  'Treated at Urgent Care': (0.5, inf)}]"
      ]
     },
     "execution_count": 16,
     "metadata": {},
     "output_type": "execute_result"
    }
   ],
   "source": [
    "imp.reload(rep)\n",
    "imp.reload(fr)\n",
    "\n",
    "output_dir = None\n",
    "inv.report([exp1], dataname, output_dir=output_dir, filter_conf=0, node_filter=fr.FILTER_BETTER_THAN_ANCESTORS)"
   ]
  },
  {
   "cell_type": "code",
   "execution_count": null,
   "metadata": {
    "collapsed": true
   },
   "outputs": [],
   "source": [
    "#\n",
    "# Train a new tree with explanatory feature\n",
    "#"
   ]
  },
  {
   "cell_type": "code",
   "execution_count": null,
   "metadata": {
    "collapsed": false
   },
   "outputs": [],
   "source": [
    "data_source = DataSource(data, random_state=RANDOM_SEED, budget=2, train_size=0.33)\n",
    "\n",
    "EXPL='Pred Interval Size'\n",
    "exp2 = error_profiling.ErrorProfiling(data_source, SENS, TARGET, GROUND_TRUTH, EXPL, random_state=RANDOM_SEED)\n",
    "print 'Training set: {}/{}'.format(len(exp2.train_set), len(data))\n",
    "exp2.train_set.tail()"
   ]
  },
  {
   "cell_type": "code",
   "execution_count": null,
   "metadata": {
    "collapsed": false
   },
   "outputs": [],
   "source": [
    "inv.train([exp2], score_aggregation='avg', min_leaf_size=100, max_depth=5)"
   ]
  },
  {
   "cell_type": "code",
   "execution_count": null,
   "metadata": {
    "collapsed": false
   },
   "outputs": [],
   "source": [
    "print exp2.trained_trees['Age']"
   ]
  },
  {
   "cell_type": "code",
   "execution_count": null,
   "metadata": {
    "collapsed": false
   },
   "outputs": [],
   "source": [
    "inv.test([exp2], exact=False, prune_insignificant=True)"
   ]
  },
  {
   "cell_type": "code",
   "execution_count": null,
   "metadata": {
    "collapsed": false
   },
   "outputs": [],
   "source": [
    "imp.reload(fr)\n",
    "imp.reload(rep)\n",
    "\n",
    "output_dir = None\n",
    "inv.report([exp2], dataname, output_dir=output_dir, filter_conf=0.95, node_filter=fr.FILTER_ALL)"
   ]
  },
  {
   "cell_type": "code",
   "execution_count": null,
   "metadata": {
    "collapsed": true
   },
   "outputs": [],
   "source": []
  }
 ],
 "metadata": {
  "kernelspec": {
   "display_name": "Python 2",
   "language": "python",
   "name": "python2"
  },
  "language_info": {
   "codemirror_mode": {
    "name": "ipython",
    "version": 2
   },
   "file_extension": ".py",
   "mimetype": "text/x-python",
   "name": "python",
   "nbconvert_exporter": "python",
   "pygments_lexer": "ipython2",
   "version": "2.7.12"
  }
 },
 "nbformat": 4,
 "nbformat_minor": 0
}
